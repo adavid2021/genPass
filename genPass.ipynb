{
 "cells": [
  {
   "cell_type": "code",
   "execution_count": 108,
   "metadata": {},
   "outputs": [
    {
     "name": "stdout",
     "output_type": "stream",
     "text": [
      "\n",
      "\n",
      "ygWInA-6Dr9\n",
      "\n",
      "\n"
     ]
    }
   ],
   "source": [
    "import secrets\n",
    "\n",
    "# generates passwords using secrets module\n",
    "def genPass(n = 8, final = \"\"):\n",
    "    if (len(final) > 8):\n",
    "        return final\n",
    "    \n",
    "    out = \"\"\n",
    "    specs = \"#,$,%,&,',(,),*,+,-,.,/,:,;,<,=,>,?,@,[,\\,],^,_,`,{,|,},~\"\n",
    "    r = secrets.randbelow(int(n * 4/5))\n",
    "    \n",
    "    if (r == 0):\n",
    "        r = 1\n",
    "    \n",
    "    for item in range(r):\n",
    "        out += secrets.choice(specs.split(\",\"))\n",
    "        \n",
    "    pas = secrets.token_urlsafe(secrets.randbelow(n)) + out + secrets.token_urlsafe(secrets.randbelow(n))\n",
    "    \n",
    "    return genPass(n, final + pas)\n",
    "\n",
    "print(\"\\n\")\n",
    "print(genPass(5))\n",
    "print(\"\\n\")"
   ]
  },
  {
   "cell_type": "code",
   "execution_count": null,
   "metadata": {},
   "outputs": [],
   "source": []
  }
 ],
 "metadata": {
  "kernelspec": {
   "display_name": "Python 3",
   "language": "python",
   "name": "python3"
  },
  "language_info": {
   "codemirror_mode": {
    "name": "ipython",
    "version": 3
   },
   "file_extension": ".py",
   "mimetype": "text/x-python",
   "name": "python",
   "nbconvert_exporter": "python",
   "pygments_lexer": "ipython3",
   "version": "3.7.4"
  }
 },
 "nbformat": 4,
 "nbformat_minor": 2
}
